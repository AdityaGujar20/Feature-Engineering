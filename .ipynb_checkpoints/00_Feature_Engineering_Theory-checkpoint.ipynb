{
 "cells": [
  {
   "cell_type": "markdown",
   "id": "746c9335-deeb-4cda-8114-1e1cfa77e4e6",
   "metadata": {},
   "source": [
    "# Feature engineering:\n",
    "* Feature Engineering is the process of using domain knowledge to extract features from raw data. These features can be used to improve the performance of machine learning algorithms.\n",
    "\n",
    "<hr>\n",
    "\n",
    "# Types of Feature Engineering:\n",
    "1. Feature Transformation: Transforming the features \n",
    "   * Feature Scaling\n",
    "   * Filling missing values\n",
    "   * Handling Categorical Values\n",
    "   * Outlier Detection\n",
    "2. Feature Construction: Manually creating new features/columns\n",
    "3. Feature Selection: Selecting relevent features\n",
    "4. Feature Extraction: Programmatically creating new features\n",
    "\n",
    "<hr>"
   ]
  }
 ],
 "metadata": {
  "kernelspec": {
   "display_name": "Python 3 (ipykernel)",
   "language": "python",
   "name": "python3"
  },
  "language_info": {
   "codemirror_mode": {
    "name": "ipython",
    "version": 3
   },
   "file_extension": ".py",
   "mimetype": "text/x-python",
   "name": "python",
   "nbconvert_exporter": "python",
   "pygments_lexer": "ipython3",
   "version": "3.11.9"
  }
 },
 "nbformat": 4,
 "nbformat_minor": 5
}
